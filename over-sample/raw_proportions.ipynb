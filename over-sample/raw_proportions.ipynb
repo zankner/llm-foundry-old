{
 "cells": [
  {
   "cell_type": "code",
   "execution_count": 1,
   "metadata": {},
   "outputs": [
    {
     "name": "stderr",
     "output_type": "stream",
     "text": [
      "/home/zack/llm-foundry/env/lib/python3.8/site-packages/tqdm/auto.py:21: TqdmWarning: IProgress not found. Please update jupyter and ipywidgets. See https://ipywidgets.readthedocs.io/en/stable/user_install.html\n",
      "  from .autonotebook import tqdm as notebook_tqdm\n"
     ]
    }
   ],
   "source": [
    "from streaming import StreamingDataset"
   ]
  },
  {
   "cell_type": "code",
   "execution_count": 26,
   "metadata": {},
   "outputs": [],
   "source": [
    "domains = {'c4': {'remote': 'oci://mosaicml-internal-dataset-c4/sem-dedupe/23-04-05/dataset/pretokencat/EleutherAI-gpt-neox-20b/0pt8/',\n",
    "  'split': 'train'},\n",
    " 'markdown': {'remote': 'oci://mosaicml-internal-datasets/stack-split-neox/markdown/',\n",
    "  'split': None},\n",
    " 'mc4': {'remote': 'oci://mosaicml-internal-dataset-mc4/filtered/en/filter2-gptneox-tok/',\n",
    "  'split': None},\n",
    " 'redpajama': {'remote': 'oci://mosaicml-internal-dataset-red-pajama/cc/gptneox-tok/',\n",
    "  'split': None},\n",
    " 'redpajama-arxiv': {'remote': 'oci://mosaicml-internal-dataset-red-pajama/arxiv/gptneox-tok/',\n",
    "  'split': None},\n",
    " 'redpajama-books': {'remote': 'oci://mosaicml-internal-dataset-red-pajama/books/gptneox-tok/',\n",
    "  'split': None},\n",
    " 'redpajama-stackexchange': {'remote': 'oci://mosaicml-internal-dataset-red-pajama/stackexchange/gptneox-tok/',\n",
    "  'split': None},\n",
    " 'redpajama-wiki': {'remote': 'oci://mosaicml-internal-dataset-red-pajama/wikipedia/gptneox-tok/en/',\n",
    "  'split': None},\n",
    " 's2': {'remote': 'oci://mosaicml-internal-datasets/s2orc/base/preconcat-gpt_neox/',\n",
    "  'split': 'train'},\n",
    " 'stack': {'remote': 'oci://mosaicml-internal-datasets/stack-split-neox/',\n",
    "  'split': None}\n",
    "}\n"
   ]
  },
  {
   "cell_type": "code",
   "execution_count": 36,
   "metadata": {},
   "outputs": [],
   "source": [
    "raw_domain_samples = {}\n",
    "for domain, domain_info in domains.items():\n",
    "    raw_domain_samples[domain] = 2048 * StreamingDataset(remote=domain_info[\"remote\"], local=\"/mnt/datateam/zack/tmp/\", split=domain_info[\"split\"]).size\n",
    "total_samples = sum(raw_domain_samples.values())\n",
    "raw_domain_proportions = {k: f\"{(v / total_samples):.4f}\" for k, v in raw_domain_samples.items()}"
   ]
  },
  {
   "cell_type": "code",
   "execution_count": 37,
   "metadata": {},
   "outputs": [
    {
     "data": {
      "text/plain": [
       "{'c4': '0.0245',\n",
       " 'markdown': '0.0261',\n",
       " 'mc4': '0.5903',\n",
       " 'redpajama': '0.2145',\n",
       " 'redpajama-arxiv': '0.0069',\n",
       " 'redpajama-books': '0.0064',\n",
       " 'redpajama-stackexchange': '0.0050',\n",
       " 'redpajama-wiki': '0.0012',\n",
       " 's2': '0.0119',\n",
       " 'stack': '0.1132'}"
      ]
     },
     "execution_count": 37,
     "metadata": {},
     "output_type": "execute_result"
    }
   ],
   "source": [
    "raw_domain_proportions"
   ]
  },
  {
   "cell_type": "code",
   "execution_count": 38,
   "metadata": {},
   "outputs": [
    {
     "data": {
      "text/plain": [
       "4096097759232"
      ]
     },
     "execution_count": 38,
     "metadata": {},
     "output_type": "execute_result"
    }
   ],
   "source": [
    "total_samples"
   ]
  },
  {
   "cell_type": "code",
   "execution_count": 39,
   "metadata": {},
   "outputs": [
    {
     "name": "stdout",
     "output_type": "stream",
     "text": [
      "{'c4': {'truncate_samples': 155613, 'download_remote': 'oci://mosaicml-internal-dataset-c4/sem-dedupe/23-04-05/dataset/pretokencat/EleutherAI-gpt-neox-20b/0pt8/', 'download_split': 'train', 'upload_remote': 'oci://mosaicml-internal-dataset-mpt-oversample/13B-available-tokens/c4/train'}, 'markdown': {'truncate_samples': 165923, 'download_remote': 'oci://mosaicml-internal-datasets/stack-split-neox/markdown/', 'download_split': None, 'upload_remote': 'oci://mosaicml-internal-dataset-mpt-oversample/13B-available-tokens/markdown/train'}, 'mc4': {'truncate_samples': 3747115, 'download_remote': 'oci://mosaicml-internal-dataset-mc4/filtered/en/filter2-gptneox-tok/', 'download_split': None, 'upload_remote': 'oci://mosaicml-internal-dataset-mpt-oversample/13B-available-tokens/mc4/train'}, 'redpajama': {'truncate_samples': 1361326, 'download_remote': 'oci://mosaicml-internal-dataset-red-pajama/cc/gptneox-tok/', 'download_split': None, 'upload_remote': 'oci://mosaicml-internal-dataset-mpt-oversample/13B-available-tokens/redpajama/train'}, 'redpajama-arxiv': {'truncate_samples': 43538, 'download_remote': 'oci://mosaicml-internal-dataset-red-pajama/arxiv/gptneox-tok/', 'download_split': None, 'upload_remote': 'oci://mosaicml-internal-dataset-mpt-oversample/13B-available-tokens/redpajama-arxiv/train'}, 'redpajama-books': {'truncate_samples': 40327, 'download_remote': 'oci://mosaicml-internal-dataset-red-pajama/books/gptneox-tok/', 'download_split': None, 'upload_remote': 'oci://mosaicml-internal-dataset-mpt-oversample/13B-available-tokens/redpajama-books/train'}, 'redpajama-stackexchange': {'truncate_samples': 31837, 'download_remote': 'oci://mosaicml-internal-dataset-red-pajama/stackexchange/gptneox-tok/', 'download_split': None, 'upload_remote': 'oci://mosaicml-internal-dataset-mpt-oversample/13B-available-tokens/redpajama-stackexchange/train'}, 'redpajama-wiki': {'truncate_samples': 7557, 'download_remote': 'oci://mosaicml-internal-dataset-red-pajama/wikipedia/gptneox-tok/en/', 'download_split': None, 'upload_remote': 'oci://mosaicml-internal-dataset-mpt-oversample/13B-available-tokens/redpajama-wiki/train'}, 's2': {'truncate_samples': 75704, 'download_remote': 'oci://mosaicml-internal-datasets/s2orc/base/preconcat-gpt_neox/', 'download_split': 'train', 'upload_remote': 'oci://mosaicml-internal-dataset-mpt-oversample/13B-available-tokens/s2/train'}, 'stack': {'truncate_samples': 718712, 'download_remote': 'oci://mosaicml-internal-datasets/stack-split-neox/', 'download_split': None, 'upload_remote': 'oci://mosaicml-internal-dataset-mpt-oversample/13B-available-tokens/stack/train'}}\n"
     ]
    }
   ],
   "source": [
    "available_tokens = 13_000_000_000\n",
    "reduction_factor = available_tokens / total_samples\n",
    "domain_subsample_info = {}\n",
    "for domain in domains:\n",
    "    domain_subsample_info[domain] = {\n",
    "        \"truncate_samples\": int(reduction_factor * raw_domain_samples[domain] / 2048),\n",
    "        \"download_remote\": domains[domain][\"remote\"],\n",
    "        \"download_split\": domains[domain][\"split\"],\n",
    "        \"upload_remote\": f\"oci://mosaicml-internal-dataset-mpt-oversample/13B-available-tokens/{domain}/train\"\n",
    "    }\n",
    "print(domain_subsample_info)"
   ]
  },
  {
   "cell_type": "code",
   "execution_count": 40,
   "metadata": {},
   "outputs": [
    {
     "data": {
      "text/plain": [
       "12999991296"
      ]
     },
     "execution_count": 40,
     "metadata": {},
     "output_type": "execute_result"
    }
   ],
   "source": [
    "check_total_samples = sum([v[\"truncate_samples\"] for v in domain_subsample_info.values()])\n",
    "check_total_samples * 2048"
   ]
  },
  {
   "cell_type": "code",
   "execution_count": 41,
   "metadata": {},
   "outputs": [
    {
     "data": {
      "text/plain": [
       "{'c4': 0.024515049029152827,\n",
       " 'markdown': 0.026139271655093884,\n",
       " 'mc4': 0.5903151275463746,\n",
       " 'redpajama': 0.21446134728242822,\n",
       " 'redpajama-arxiv': 0.006858914130768353,\n",
       " 'redpajama-books': 0.006353057792078079,\n",
       " 'redpajama-stackexchange': 0.005015555358107218,\n",
       " 'redpajama-wiki': 0.0011905189509443808,\n",
       " 's2': 0.01192629967742403,\n",
       " 'stack': 0.11322485857762839}"
      ]
     },
     "execution_count": 41,
     "metadata": {},
     "output_type": "execute_result"
    }
   ],
   "source": [
    "check_domain_proportions = {k: v[\"truncate_samples\"] / check_total_samples for k, v in domain_subsample_info.items()}\n",
    "check_domain_proportions"
   ]
  },
  {
   "cell_type": "code",
   "execution_count": 42,
   "metadata": {},
   "outputs": [
    {
     "data": {
      "text/plain": [
       "['c4',\n",
       " 'markdown',\n",
       " 'mc4',\n",
       " 'redpajama',\n",
       " 'redpajama-arxiv',\n",
       " 'redpajama-books',\n",
       " 'redpajama-stackexchange',\n",
       " 'redpajama-wiki',\n",
       " 's2',\n",
       " 'stack']"
      ]
     },
     "execution_count": 42,
     "metadata": {},
     "output_type": "execute_result"
    }
   ],
   "source": [
    "list(domains.keys())"
   ]
  },
  {
   "cell_type": "code",
   "execution_count": null,
   "metadata": {},
   "outputs": [],
   "source": []
  }
 ],
 "metadata": {
  "kernelspec": {
   "display_name": "env",
   "language": "python",
   "name": "python3"
  },
  "language_info": {
   "codemirror_mode": {
    "name": "ipython",
    "version": 3
   },
   "file_extension": ".py",
   "mimetype": "text/x-python",
   "name": "python",
   "nbconvert_exporter": "python",
   "pygments_lexer": "ipython3",
   "version": "3.8.10"
  },
  "orig_nbformat": 4
 },
 "nbformat": 4,
 "nbformat_minor": 2
}
