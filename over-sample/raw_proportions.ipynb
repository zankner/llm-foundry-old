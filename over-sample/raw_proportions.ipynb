{
 "cells": [
  {
   "cell_type": "code",
   "execution_count": 1,
   "metadata": {},
   "outputs": [
    {
     "name": "stderr",
     "output_type": "stream",
     "text": [
      "/Users/zackankner/Desktop/ai/llm-foundry/env/lib/python3.10/site-packages/tqdm/auto.py:21: TqdmWarning: IProgress not found. Please update jupyter and ipywidgets. See https://ipywidgets.readthedocs.io/en/stable/user_install.html\n",
      "  from .autonotebook import tqdm as notebook_tqdm\n"
     ]
    }
   ],
   "source": [
    "from streaming import StreamingDataset"
   ]
  },
  {
   "cell_type": "code",
   "execution_count": 2,
   "metadata": {},
   "outputs": [],
   "source": [
    "domains = {\n",
    "    'c4': 'oci://mosaicml-internal-dataset-c4/sem-dedupe/23-04-05/dataset/pretokencat/EleutherAI-gpt-neox-20b/0pt8/',\n",
    "    'markdown': 'oci://mosaicml-internal-datasets/stack-split-neox/markdown/',\n",
    "    'mc4': 'oci://mosaicml-internal-dataset-mc4/filtered/en/filter2-gptneox-tok/',\n",
    "    'redpajama': 'oci://mosaicml-internal-dataset-red-pajama/cc/gptneox-tok/',\n",
    "    'redpajama-arxiv': 'oci://mosaicml-internal-dataset-red-pajama/arxiv/gptneox-tok/',\n",
    "    'redpajama-books': 'oci://mosaicml-internal-dataset-red-pajama/books/gptneox-tok/',\n",
    "    'redpajama-stackexchange': 'oci://mosaicml-internal-dataset-red-pajama/stackexchange/gptneox-tok/',\n",
    "    'redpajama-wiki': 'oci://mosaicml-internal-dataset-red-pajama/wikipedia/gptneox-tok/en/',\n",
    "    's2': 'oci://mosaicml-internal-datasets/s2orc/base/preconcat-gpt_neox/',\n",
    "    'stack': 'oci://mosaicml-internal-datasets/stack-split-neox/'\n",
    "}\n"
   ]
  },
  {
   "cell_type": "code",
   "execution_count": null,
   "metadata": {},
   "outputs": [],
   "source": [
    "for domain in domains"
   ]
  }
 ],
 "metadata": {
  "kernelspec": {
   "display_name": "env",
   "language": "python",
   "name": "python3"
  },
  "language_info": {
   "codemirror_mode": {
    "name": "ipython",
    "version": 3
   },
   "file_extension": ".py",
   "mimetype": "text/x-python",
   "name": "python",
   "nbconvert_exporter": "python",
   "pygments_lexer": "ipython3",
   "version": "3.10.4"
  },
  "orig_nbformat": 4
 },
 "nbformat": 4,
 "nbformat_minor": 2
}
