{
 "cells": [
  {
   "cell_type": "code",
   "execution_count": 1,
   "metadata": {},
   "outputs": [],
   "source": [
    "import re\n",
    "import os\n",
    "from collections import defaultdict\n",
    "\n",
    "import wandb\n",
    "import numpy as np\n",
    "from omegaconf import OmegaConf as om"
   ]
  },
  {
   "cell_type": "code",
   "execution_count": 2,
   "metadata": {},
   "outputs": [],
   "source": [
    "api = wandb.Api()\n",
    "project_name = \"mosaic-ml/mpt-over-sampling\""
   ]
  },
  {
   "cell_type": "code",
   "execution_count": 3,
   "metadata": {},
   "outputs": [],
   "source": [
    "# Online vs offline comparisons\n",
    "groups = {\n",
    "    \"mpt1.5-3b-params-52b-tokens-2.5x-epoch-raw-proportion\": \"raw-mix-10T-setting\",\n",
    "    \"mpt1.5-3b-params-52b-tokens-2.5x-epoch-mpt1.5-proportion\": \"mpt1.5-mix-10T-setting\",\n",
    "    \"mpt1.5-3b-params-52b-tokens-1.4x-epoch-raw-proportion\": \"raw-mix-5T-setting\",\n",
    "}\n",
    "\n",
    "# 2.5 vs 1.4 epoch comparisons\n",
    "# groups = {\n",
    "#     \"mpt1.5-3b-params-52b-tokens-1.4x-epoch-raw-proportion\": \"raw-mix-5T-setting\",\n",
    "#     \"mpt1.5-3b-params-52b-tokens-2.5x-epoch-raw-proportion\": \"raw-mix-10T-setting\",\n",
    "# }"
   ]
  },
  {
   "cell_type": "code",
   "execution_count": 4,
   "metadata": {},
   "outputs": [],
   "source": [
    "normalized = True\n",
    "filters = {}"
   ]
  },
  {
   "cell_type": "code",
   "execution_count": 5,
   "metadata": {},
   "outputs": [],
   "source": [
    "runs = api.runs(project_name, filters=filters)"
   ]
  },
  {
   "cell_type": "code",
   "execution_count": 6,
   "metadata": {},
   "outputs": [],
   "source": [
    "categories = [\"category-average\", \"world_knowledge\", \"commonsense_reasoning\", \"language_understanding\", \"symbolic_problem_solving\", \"reading_comprehension\"]\n",
    "metric_names = [os.path.join(\"metrics\", f\"{'normalized_' if normalized else ''}model_gauntlet\", category) for category in categories]"
   ]
  },
  {
   "cell_type": "code",
   "execution_count": 7,
   "metadata": {},
   "outputs": [],
   "source": [
    "raw_group_results = defaultdict(list)\n",
    "for run in runs:\n",
    "    group = run.group\n",
    "    name = run.name\n",
    "\n",
    "    if \"eval\" not in name:\n",
    "        continue\n",
    "\n",
    "    if group not in groups:\n",
    "        continue\n",
    "    \n",
    "    if \"maxified\" in name:\n",
    "        continue\n",
    "\n",
    "    if \"normalized\" in name and not normalized:\n",
    "        continue\n",
    "    \n",
    "    try:\n",
    "        history = run.history(pandas=False)\n",
    "        final_step = history[-1]\n",
    "        metrics = [final_step[metric_name] for metric_name in metric_names]\n",
    "        raw_group_results[group].append(metrics)\n",
    "    except:\n",
    "        print(f\"Failed for run: {name}\")"
   ]
  },
  {
   "cell_type": "code",
   "execution_count": 8,
   "metadata": {},
   "outputs": [],
   "source": [
    "group_results = {k: np.mean(v, axis=0) for k, v in raw_group_results.items()}"
   ]
  },
  {
   "cell_type": "code",
   "execution_count": 9,
   "metadata": {},
   "outputs": [
    {
     "name": "stdout",
     "output_type": "stream",
     "text": [
      "| raw-mix-5T-setting | 0.2097 | 0.2126 | 0.2307 | 0.2397 | 0.0937 | 0.2717 |\n",
      "| mpt1.5-mix-10T-setting | 0.1666 | 0.1715 | 0.1974 | 0.1947 | 0.1004 | 0.1688 |\n",
      "| raw-mix-10T-setting | 0.1982 | 0.1957 | 0.2156 | 0.2462 | 0.1060 | 0.2277 |\n"
     ]
    }
   ],
   "source": [
    "for run_name, metrics in group_results.items():\n",
    "    metrics = metrics.tolist()\n",
    "    metrics = [f\"{metric:.4f}\" for metric in metrics]\n",
    "    print(f\"| {groups[run_name]} | {' | '.join(metrics)} |\")"
   ]
  },
  {
   "cell_type": "code",
   "execution_count": null,
   "metadata": {},
   "outputs": [],
   "source": []
  },
  {
   "cell_type": "code",
   "execution_count": null,
   "metadata": {},
   "outputs": [],
   "source": []
  }
 ],
 "metadata": {
  "kernelspec": {
   "display_name": "env",
   "language": "python",
   "name": "python3"
  },
  "language_info": {
   "codemirror_mode": {
    "name": "ipython",
    "version": 3
   },
   "file_extension": ".py",
   "mimetype": "text/x-python",
   "name": "python",
   "nbconvert_exporter": "python",
   "pygments_lexer": "ipython3",
   "version": "3.10.4"
  },
  "orig_nbformat": 4
 },
 "nbformat": 4,
 "nbformat_minor": 2
}
