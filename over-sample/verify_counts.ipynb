{
 "cells": [
  {
   "cell_type": "code",
   "execution_count": 1,
   "metadata": {},
   "outputs": [
    {
     "name": "stderr",
     "output_type": "stream",
     "text": [
      "/Users/zackankner/Desktop/ai/llm-foundry/env/lib/python3.10/site-packages/tqdm/auto.py:21: TqdmWarning: IProgress not found. Please update jupyter and ipywidgets. See https://ipywidgets.readthedocs.io/en/stable/user_install.html\n",
      "  from .autonotebook import tqdm as notebook_tqdm\n"
     ]
    }
   ],
   "source": [
    "import os\n",
    "from streaming import StreamingDataset"
   ]
  },
  {
   "cell_type": "code",
   "execution_count": 2,
   "metadata": {},
   "outputs": [],
   "source": [
    "remote_base = \"s3://data-force-one-datasets/mpt2-base-data/gpt-neox-20b-seqlen-2048/52B-train-tokens-from-2.5-passes\"\n",
    "dataset_names = ['c4',\n",
    "                'mc4',\n",
    "                'refined-web',\n",
    "                'wikipedia',\n",
    "                'stack_exchange',\n",
    "                'arxiv',\n",
    "                'peS20',\n",
    "                'markdown-dedup',\n",
    "                'stack-dedup']"
   ]
  },
  {
   "cell_type": "code",
   "execution_count": null,
   "metadata": {},
   "outputs": [],
   "source": [
    "token_counts = {}\n",
    "for dataset_name in dataset_names:\n",
    "    remote = os.path.join(remote_base, dataset_name)\n",
    "    token_counts[dataset_name] = StreamingDataset(remote=remote, split=\"train\").size * 2048 / 1e+9\n",
    "    print(f\"{dataset_name}: {token_counts[dataset_name]:.2f}B\")\n",
    "print(f\"Total: {sum(token_counts.values()):.2f}B\")"
   ]
  }
 ],
 "metadata": {
  "kernelspec": {
   "display_name": "env",
   "language": "python",
   "name": "python3"
  },
  "language_info": {
   "codemirror_mode": {
    "name": "ipython",
    "version": 3
   },
   "file_extension": ".py",
   "mimetype": "text/x-python",
   "name": "python",
   "nbconvert_exporter": "python",
   "pygments_lexer": "ipython3",
   "version": "3.10.4"
  },
  "orig_nbformat": 4
 },
 "nbformat": 4,
 "nbformat_minor": 2
}
