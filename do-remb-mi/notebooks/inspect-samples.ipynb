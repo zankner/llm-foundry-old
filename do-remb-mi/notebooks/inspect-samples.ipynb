{
 "cells": [
  {
   "cell_type": "code",
   "execution_count": 1,
   "metadata": {},
   "outputs": [
    {
     "name": "stderr",
     "output_type": "stream",
     "text": [
      "/Users/zackankner/Desktop/ai/llm-foundry/env/lib/python3.10/site-packages/tqdm/auto.py:21: TqdmWarning: IProgress not found. Please update jupyter and ipywidgets. See https://ipywidgets.readthedocs.io/en/stable/user_install.html\n",
      "  from .autonotebook import tqdm as notebook_tqdm\n"
     ]
    }
   ],
   "source": [
    "from streaming import StreamingDataset\n",
    "from transformers import AutoTokenizer\n",
    "import numpy as np"
   ]
  },
  {
   "cell_type": "code",
   "execution_count": 3,
   "metadata": {},
   "outputs": [],
   "source": [
    "PILE_DATA_SOURCES = [\n",
    "    \"Pile-CC\", \"PubMed Central\", \"Books3\", \"OpenWebText2\", \"ArXiv\", \"Github\",\n",
    "    \"FreeLaw\", \"StackExchange\", \"USPTO Backgrounds\", \"PubMed Abstracts\",\n",
    "    \"Gutenberg (PG-19)\", \"OpenSubtitles\", \"Wikipedia (en)\", \"DM Mathematics\",\n",
    "    \"Ubuntu IRC\", \"BookCorpus2\", \"EuroParl\", \"HackerNews\", \"YoutubeSubtitles\",\n",
    "    \"PhilPapers\", \"NIH ExPorter\", \"Enron Emails\"\n",
    "]"
   ]
  },
  {
   "cell_type": "code",
   "execution_count": 2,
   "metadata": {},
   "outputs": [
    {
     "name": "stderr",
     "output_type": "stream",
     "text": [
      "Downloading (…)okenizer_config.json: 100%|██████████| 156/156 [00:00<00:00, 293kB/s]\n",
      "Downloading (…)olve/main/vocab.json: 100%|██████████| 1.08M/1.08M [00:00<00:00, 2.36MB/s]\n",
      "Downloading (…)olve/main/merges.txt: 100%|██████████| 457k/457k [00:00<00:00, 1.81MB/s]\n",
      "Downloading (…)/main/tokenizer.json: 100%|██████████| 2.11M/2.11M [00:00<00:00, 2.95MB/s]\n",
      "Downloading (…)cial_tokens_map.json: 100%|██████████| 90.0/90.0 [00:00<00:00, 202kB/s]\n"
     ]
    }
   ],
   "source": [
    "tokenizer = AutoTokenizer.from_pretrained(\"EleutherAI/gpt-neox-20b\")"
   ]
  },
  {
   "cell_type": "code",
   "execution_count": null,
   "metadata": {},
   "outputs": [],
   "source": [
    "ds = StreamingDataset(local=\"\", split=\"test\", shuffle=False)"
   ]
  },
  {
   "cell_type": "code",
   "execution_count": null,
   "metadata": {},
   "outputs": [],
   "source": [
    "def print_sample(idx: int):\n",
    "    sample = ds[idx]\n",
    "    tokens = np.frombuffer(sample[\"tokens\"],\n",
    "                          dtype=np.int64)[:2048].copy()\n",
    "    text = tokenizer.decode(tokens)\n",
    "    print(f\"Text: {text}\")\n",
    "    domain = PILE_DATA_SOURCES[sample[\"domain_idx\"]]\n",
    "    print(f\"Domain: {domain}\")"
   ]
  }
 ],
 "metadata": {
  "kernelspec": {
   "display_name": "env",
   "language": "python",
   "name": "python3"
  },
  "language_info": {
   "codemirror_mode": {
    "name": "ipython",
    "version": 3
   },
   "file_extension": ".py",
   "mimetype": "text/x-python",
   "name": "python",
   "nbconvert_exporter": "python",
   "pygments_lexer": "ipython3",
   "version": "3.10.4"
  },
  "orig_nbformat": 4
 },
 "nbformat": 4,
 "nbformat_minor": 2
}
