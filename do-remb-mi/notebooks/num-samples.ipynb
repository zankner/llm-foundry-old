{
 "cells": [
  {
   "attachments": {},
   "cell_type": "markdown",
   "metadata": {},
   "source": [
    "# Computing original sample amounts"
   ]
  },
  {
   "cell_type": "code",
   "execution_count": 3,
   "metadata": {},
   "outputs": [],
   "source": [
    "from streaming import Stream, StreamingDataset"
   ]
  },
  {
   "cell_type": "code",
   "execution_count": null,
   "metadata": {},
   "outputs": [],
   "source": [
    "dataset_cfgs = {\n",
    "    \"pile-cc\": {\"epochs\":1},\n",
    "    \"pubmed-central\": {\"epochs\":2},\n",
    "    \"books3\": {\"epochs\":1.5},\n",
    "    \"open-web-text-2\": {\"epochs\":2},\n",
    "    \"arxiv\": {\"epochs\":2},\n",
    "    \"github\": {\"epochs\":1},\n",
    "    \"free-law\": {\"epochs\":1.5},\n",
    "    \"stack-exchange\": {\"epochs\":2},\n",
    "    \"uspto-backgrounds\": {\"epochs\":2},\n",
    "    \"pubmed-abstracts\": {\"epochs\":2},\n",
    "    \"gutenberg\": {\"epochs\":2.5},\n",
    "    \"open-subtitles\": {\"epochs\":1.5},\n",
    "    \"wikepedia-en\": {\"epochs\":3},\n",
    "    \"dm-mathematics\": {\"epochs\":2},\n",
    "    \"ubuntu-irc\": {\"epochs\":2},\n",
    "    \"books-corpus-2\": {\"epochs\":1.5},\n",
    "    \"euro-parl\": {\"epochs\":2},\n",
    "    \"hacker-news\": {\"epochs\":2},\n",
    "    \"youtube-subtitles\": {\"epochs\":2},\n",
    "    \"phil-papers\": {\"epochs\":2},\n",
    "    \"nih-ex-porter\": {\"epochs\":2},\n",
    "    \"enron-emails\": {\"epochs\":2}\n",
    "}\n",
    "dataset_cfgs = {k: {\"epochs\": v[\"epochs\"], \"\"} for k, v in dataset_cfgs.items()}"
   ]
  },
  {
   "attachments": {},
   "cell_type": "markdown",
   "metadata": {},
   "source": [
    "# Verifying uniform sampling"
   ]
  },
  {
   "cell_type": "code",
   "execution_count": null,
   "metadata": {},
   "outputs": [],
   "source": [
    "total_samples = 0\n",
    "domain_counts = {}\n",
    "for domain_idx in range(22):\n",
    "    ds = StreamingDataset(local=\"\", split=\"test\", shuffle=False)\n",
    "    n_samples = ds.index.total_samples\n",
    "    total_samples += n_samples\n",
    "    domain_counts[domain_idx] = n_samples\n",
    "domain_proportions = {k: v / total_samples for k, v in domain_counts.items()}"
   ]
  }
 ],
 "metadata": {
  "kernelspec": {
   "display_name": "env",
   "language": "python",
   "name": "python3"
  },
  "language_info": {
   "codemirror_mode": {
    "name": "ipython",
    "version": 3
   },
   "file_extension": ".py",
   "mimetype": "text/x-python",
   "name": "python",
   "nbconvert_exporter": "python",
   "pygments_lexer": "ipython3",
   "version": "3.10.4"
  },
  "orig_nbformat": 4
 },
 "nbformat": 4,
 "nbformat_minor": 2
}
