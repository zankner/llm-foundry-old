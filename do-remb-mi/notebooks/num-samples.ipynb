{
 "cells": [
  {
   "attachments": {},
   "cell_type": "markdown",
   "metadata": {},
   "source": [
    "# Computing baseline sampling proportions "
   ]
  },
  {
   "cell_type": "code",
   "execution_count": 2,
   "metadata": {},
   "outputs": [],
   "source": [
    "from streaming import StreamingDataset"
   ]
  },
  {
   "cell_type": "code",
   "execution_count": 7,
   "metadata": {},
   "outputs": [
    {
     "name": "stdout",
     "output_type": "stream",
     "text": [
      "[0.0384240625, 0.03094484375, 0.019497421875, 0.021077734375, 0.09471203125, 0.142099375, 0.016896328125, 0.035976796875, 0.0302825, 0.0598478125, 0.119653671875, 0.00718921875, 0.02127328125, 0.009433046875, 0.0166284375, 0.07820453125, 0.054911640625, 0.023267421875, 0.0343740625, 0.032515625, 0.08241453125, 0.030375625]\n"
     ]
    }
   ],
   "source": [
    "num_domains = 22\n",
    "total_samples = 0\n",
    "domain_counts = [] \n",
    "for domain_idx in range(num_domains):\n",
    "    ds = StreamingDataset(remote=f\"oci://mosaicml-internal-doremi/pile/pre-concat/gpt-neox-20b-seqlen-2048/22-clusters/base/25K-samples-baseline-sd-17/domain-{domain_idx}\", split=\"train\", shuffle=False)\n",
    "    n_samples = ds.index.total_samples\n",
    "    total_samples += n_samples\n",
    "    domain_counts.append(n_samples)\n",
    "print([domain_count / total_samples for domain_count in domain_counts])"
   ]
  },
  {
   "cell_type": "code",
   "execution_count": null,
   "metadata": {},
   "outputs": [],
   "source": []
  }
 ],
 "metadata": {
  "kernelspec": {
   "display_name": "env",
   "language": "python",
   "name": "python3"
  },
  "language_info": {
   "codemirror_mode": {
    "name": "ipython",
    "version": 3
   },
   "file_extension": ".py",
   "mimetype": "text/x-python",
   "name": "python",
   "nbconvert_exporter": "python",
   "pygments_lexer": "ipython3",
   "version": "3.10.12"
  },
  "orig_nbformat": 4
 },
 "nbformat": 4,
 "nbformat_minor": 2
}
